{
 "cells": [
  {
   "cell_type": "code",
   "execution_count": null,
   "metadata": {},
   "outputs": [],
   "source": [
    "from pygame import mixer               #to use sound functionality\n",
    "from time import time               # to get time in integer form\n",
    "import datetime                     \n",
    "mixer.init()              #initalize mixer to play sound\n",
    "def stop(a):\n",
    "    \"\"\" Here it is usef to log the data in a file and pause the alarm \"\"\"\n",
    "    if a==\"drank\":\n",
    "        with open(\"alram.txt\",\"a\") as f:\n",
    "            f.write(str(datetime.datetime.now())+\":\"+a+\"\\n\")\n",
    "            print(\"log successfully\\n\")\n",
    "    elif b==\"done\":\n",
    "        with open(\"alarm2.txt\",\"a\") as f1:\n",
    "            f1.write(str(datetime.datetime.now())+\":\"+b+\"\\n\")\n",
    "            print(\"log successfully\")\n",
    "    else:\n",
    "        print(\"Try again\")\n",
    "    mixer.music.stop()\n",
    "def alarm(file):\n",
    "    \"\"\"\" This function is use to play sound\"\"\"\n",
    "    mixer.music.load(file)\n",
    "    mixer.music.play(-1)\n",
    "        \n",
    "# mixer.music.load(\"Eurasian-collared-dove-call.mp3\")\n",
    "# mixer.music.play(-1)\n",
    "if __name__ == '__main__':\n",
    "    water1=time()        # here getting time updated form\n",
    "    eye1=time()         #here getting time updated form        \n",
    "    while True:\n",
    "            \n",
    "        if time() - water1>=2400:\n",
    "            \"\"\"\"This give the difference means water1 has initial time, now\n",
    "            after some time time()value changed so differnece gives minutes \n",
    "            \"\"\"\n",
    "            alarm(\"sound1.mp3\")\n",
    "            a=input(\"Enter drank to stop alarm:\")\n",
    "            if a==\"drank\":\n",
    "                stop(a)\n",
    "                water1=time()\n",
    "        elif time()-eye1>=3600:\n",
    "            alarm(\"sound2.wav\")\n",
    "            b=input(\"Enter done to stop\")\n",
    "            if b==\"done\":\n",
    "                stop(b)\n",
    "                eye1=time()"
   ]
  }
 ],
 "metadata": {
  "kernelspec": {
   "display_name": "Python 3",
   "language": "python",
   "name": "python3"
  },
  "language_info": {
   "codemirror_mode": {
    "name": "ipython",
    "version": 3
   },
   "file_extension": ".py",
   "mimetype": "text/x-python",
   "name": "python",
   "nbconvert_exporter": "python",
   "pygments_lexer": "ipython3",
   "version": "3.7.1"
  }
 },
 "nbformat": 4,
 "nbformat_minor": 2
}
